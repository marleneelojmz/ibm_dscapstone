{
 "cells": [
  {
   "cell_type": "code",
   "execution_count": 1,
   "metadata": {},
   "outputs": [],
   "source": [
    "import geocoder"
   ]
  },
  {
   "cell_type": "code",
   "execution_count": 2,
   "metadata": {},
   "outputs": [
    {
     "name": "stdout",
     "output_type": "stream",
     "text": [
      "0      M1B\n",
      "1      M1C\n",
      "2      M1E\n",
      "3      M1G\n",
      "4      M1H\n",
      "      ... \n",
      "98     M9N\n",
      "99     M9P\n",
      "100    M9R\n",
      "101    M9V\n",
      "102    M9W\n",
      "Name: Postalcode, Length: 103, dtype: object\n"
     ]
    }
   ],
   "source": [
    "import pandas as pd \n",
    "\n",
    "data = pd.read_csv('data_cleaned_toronto.csv')\n",
    "\n",
    "print(data['Postalcode'])\n",
    "\n",
    "pc_data = pd.DataFrame(columns = ['PostalCode','Borough','Neighborhood','Latitude','Longitude'])"
   ]
  },
  {
   "cell_type": "code",
   "execution_count": null,
   "metadata": {},
   "outputs": [],
   "source": [
    "index = 0\n",
    "for postalcode, borough, neighborhood in zip(data['Postalcode'],data['Borough'],data['Neighborhood']):\n",
    "    \n",
    "    list_neigh = neighborhood.split(\",\")\n",
    "    for neigh in list_neigh:\n",
    "        lat_lng_coords = None\n",
    "        print('{}, {}, {}'.format(postalcode,borough,neigh))\n",
    "        while(lat_lng_coords is None):\n",
    "            g = geocoder.google('{}, {}, {}'.format(postalcode,borough,neigh))\n",
    "            lat_lng_coords = g.latlng\n",
    "            index += 1\n",
    "            print(index)\n",
    "        latitude = lat_lng_coords[0]\n",
    "        longitude = lat_lng_coords[1]\n",
    "        print(latitude,longitude)\n",
    "        pc_data.loc[len(pc_data)] = {'PostalCode': postalcode, 'Borough' : borough, 'Neighborhood': neigh, 'Latitude': latitude,'Longitude': longitude}\n"
   ]
  }
 ],
 "metadata": {
  "kernelspec": {
   "display_name": "Python 3",
   "language": "python",
   "name": "python3"
  },
  "language_info": {
   "codemirror_mode": {
    "name": "ipython",
    "version": 3
   },
   "file_extension": ".py",
   "mimetype": "text/x-python",
   "name": "python",
   "nbconvert_exporter": "python",
   "pygments_lexer": "ipython3",
   "version": "3.9.13"
  },
  "orig_nbformat": 4
 },
 "nbformat": 4,
 "nbformat_minor": 2
}
